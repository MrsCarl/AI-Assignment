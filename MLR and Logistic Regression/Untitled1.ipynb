{
 "cells": [
  {
   "cell_type": "markdown",
   "id": "ece73fd5",
   "metadata": {},
   "source": [
    "#### Welcome to assignment on Python Programming. In this assignment you are supposed to process/read/work on a file name “Employee.csv”. Which contain employee information of an organization. Following information’s are available for each employee:\n",
    "•\tEID – Employee ID\n",
    "•\tEmployee Name\n",
    "•\tGender\n",
    "•\tSalary\n",
    "•\tDate of Joining\n",
    "#### In this assignment you are supposed to write functions for following objective:\n",
    "•\tGiven an employee id, greet them with their first name.\n",
    "o\tInput : E123D\n",
    "o\tOutput :“Hello, Mr Nitin”\n",
    "•\tFunction for calculating the average salary of each department.\n",
    "•\tGiven an Employee id, display respective employees Name, Data of Joining and Department.\n",
    "o\tInput : E123D\n",
    "o\tOutput : Nitin Bhole | 01-11-2016 | Products\n",
    "•\tFunction for sorting employees from Oldest to Newest.\n"
   ]
  },
  {
   "cell_type": "code",
   "execution_count": 1,
   "id": "276953d1",
   "metadata": {},
   "outputs": [],
   "source": [
    "import pandas as pd\n",
    "df = pd.read_csv(\"../PythonProg/employee.csv\")"
   ]
  },
  {
   "cell_type": "code",
   "execution_count": 2,
   "id": "7bbdfffc",
   "metadata": {},
   "outputs": [
    {
     "data": {
      "text/html": [
       "<div>\n",
       "<style scoped>\n",
       "    .dataframe tbody tr th:only-of-type {\n",
       "        vertical-align: middle;\n",
       "    }\n",
       "\n",
       "    .dataframe tbody tr th {\n",
       "        vertical-align: top;\n",
       "    }\n",
       "\n",
       "    .dataframe thead th {\n",
       "        text-align: right;\n",
       "    }\n",
       "</style>\n",
       "<table border=\"1\" class=\"dataframe\">\n",
       "  <thead>\n",
       "    <tr style=\"text-align: right;\">\n",
       "      <th></th>\n",
       "      <th>EID</th>\n",
       "      <th>Employee Name</th>\n",
       "      <th>Gender</th>\n",
       "      <th>Salary</th>\n",
       "      <th>Date of Joining</th>\n",
       "      <th>Department</th>\n",
       "    </tr>\n",
       "  </thead>\n",
       "  <tbody>\n",
       "    <tr>\n",
       "      <th>0</th>\n",
       "      <td>E123D</td>\n",
       "      <td>Nitin Bhole</td>\n",
       "      <td>M</td>\n",
       "      <td>1900000</td>\n",
       "      <td>01-11-2016</td>\n",
       "      <td>Products</td>\n",
       "    </tr>\n",
       "    <tr>\n",
       "      <th>1</th>\n",
       "      <td>E876G</td>\n",
       "      <td>Mayur Kulkarni</td>\n",
       "      <td>M</td>\n",
       "      <td>1200000</td>\n",
       "      <td>03-06-2016</td>\n",
       "      <td>Semantics</td>\n",
       "    </tr>\n",
       "    <tr>\n",
       "      <th>2</th>\n",
       "      <td>E798G</td>\n",
       "      <td>Anurag Pandey</td>\n",
       "      <td>M</td>\n",
       "      <td>1200000</td>\n",
       "      <td>04-07-2016</td>\n",
       "      <td>IT</td>\n",
       "    </tr>\n",
       "    <tr>\n",
       "      <th>3</th>\n",
       "      <td>E123B</td>\n",
       "      <td>Pankaj Bansal</td>\n",
       "      <td>M</td>\n",
       "      <td>900000</td>\n",
       "      <td>01-12-2015</td>\n",
       "      <td>Research</td>\n",
       "    </tr>\n",
       "    <tr>\n",
       "      <th>4</th>\n",
       "      <td>E098Z</td>\n",
       "      <td>Rajendra Prabhu</td>\n",
       "      <td>M</td>\n",
       "      <td>1000000</td>\n",
       "      <td>11-11-2015</td>\n",
       "      <td>Semantics</td>\n",
       "    </tr>\n",
       "    <tr>\n",
       "      <th>5</th>\n",
       "      <td>E294M</td>\n",
       "      <td>Sumanth Mishra</td>\n",
       "      <td>M</td>\n",
       "      <td>1800000</td>\n",
       "      <td>04-09-2017</td>\n",
       "      <td>Research</td>\n",
       "    </tr>\n",
       "    <tr>\n",
       "      <th>6</th>\n",
       "      <td>E972L</td>\n",
       "      <td>Sai Bodha</td>\n",
       "      <td>M</td>\n",
       "      <td>1100000</td>\n",
       "      <td>11-11-2017</td>\n",
       "      <td>Semantics</td>\n",
       "    </tr>\n",
       "    <tr>\n",
       "      <th>7</th>\n",
       "      <td>E184A</td>\n",
       "      <td>Kushmakar Krishna</td>\n",
       "      <td>M</td>\n",
       "      <td>1100000</td>\n",
       "      <td>01-01-2015</td>\n",
       "      <td>Products</td>\n",
       "    </tr>\n",
       "    <tr>\n",
       "      <th>8</th>\n",
       "      <td>E104S</td>\n",
       "      <td>Amarnath Patil</td>\n",
       "      <td>M</td>\n",
       "      <td>600000</td>\n",
       "      <td>29-11-2015</td>\n",
       "      <td>Engineering</td>\n",
       "    </tr>\n",
       "    <tr>\n",
       "      <th>9</th>\n",
       "      <td>E093V</td>\n",
       "      <td>Shashidhar Reddy</td>\n",
       "      <td>M</td>\n",
       "      <td>700000</td>\n",
       "      <td>29-11-2018</td>\n",
       "      <td>Engineering</td>\n",
       "    </tr>\n",
       "    <tr>\n",
       "      <th>10</th>\n",
       "      <td>E983Q</td>\n",
       "      <td>Chakshu Bansal</td>\n",
       "      <td>F</td>\n",
       "      <td>300000</td>\n",
       "      <td>04-12-2017</td>\n",
       "      <td>Products</td>\n",
       "    </tr>\n",
       "    <tr>\n",
       "      <th>11</th>\n",
       "      <td>E092E</td>\n",
       "      <td>Mitali Gupta</td>\n",
       "      <td>F</td>\n",
       "      <td>1600000</td>\n",
       "      <td>02-05-2019</td>\n",
       "      <td>Semantics</td>\n",
       "    </tr>\n",
       "    <tr>\n",
       "      <th>12</th>\n",
       "      <td>E620Y</td>\n",
       "      <td>Kumar Abhishek</td>\n",
       "      <td>M</td>\n",
       "      <td>1100000</td>\n",
       "      <td>01-12-2014</td>\n",
       "      <td>Semantics</td>\n",
       "    </tr>\n",
       "    <tr>\n",
       "      <th>13</th>\n",
       "      <td>E109U</td>\n",
       "      <td>Sanket Gibbidi</td>\n",
       "      <td>M</td>\n",
       "      <td>5000000</td>\n",
       "      <td>11-01-2019</td>\n",
       "      <td>Products</td>\n",
       "    </tr>\n",
       "  </tbody>\n",
       "</table>\n",
       "</div>"
      ],
      "text/plain": [
       "      EID      Employee Name Gender   Salary Date of Joining   Department\n",
       "0   E123D        Nitin Bhole      M  1900000      01-11-2016     Products\n",
       "1   E876G     Mayur Kulkarni      M  1200000      03-06-2016    Semantics\n",
       "2   E798G      Anurag Pandey      M  1200000      04-07-2016           IT\n",
       "3   E123B      Pankaj Bansal      M   900000      01-12-2015     Research\n",
       "4   E098Z    Rajendra Prabhu      M  1000000      11-11-2015    Semantics\n",
       "5   E294M     Sumanth Mishra      M  1800000      04-09-2017     Research\n",
       "6   E972L          Sai Bodha      M  1100000      11-11-2017    Semantics\n",
       "7   E184A  Kushmakar Krishna      M  1100000      01-01-2015     Products\n",
       "8   E104S     Amarnath Patil      M   600000      29-11-2015  Engineering\n",
       "9   E093V   Shashidhar Reddy      M   700000      29-11-2018  Engineering\n",
       "10  E983Q     Chakshu Bansal      F   300000      04-12-2017     Products\n",
       "11  E092E       Mitali Gupta      F  1600000      02-05-2019    Semantics\n",
       "12  E620Y     Kumar Abhishek      M  1100000      01-12-2014    Semantics\n",
       "13  E109U     Sanket Gibbidi      M  5000000      11-01-2019     Products"
      ]
     },
     "execution_count": 2,
     "metadata": {},
     "output_type": "execute_result"
    }
   ],
   "source": [
    "df"
   ]
  },
  {
   "cell_type": "code",
   "execution_count": 6,
   "id": "adec4fe3",
   "metadata": {},
   "outputs": [
    {
     "name": "stdout",
     "output_type": "stream",
     "text": [
      "Hello, Mr Nitin Bhole\n"
     ]
    }
   ],
   "source": [
    "def greet_employee(employee_id):\n",
    "    # Search for the employee by EID\n",
    "    employee = df[df['EID'] == employee_id]\n",
    "    if not employee.empty:\n",
    "       # Extract employee details\n",
    "        name = employee.iloc[0]['Employee Name']\n",
    "        gender = employee.iloc[0]['Gender']\n",
    "        # Determine greeting based on gender\n",
    "        if gender == 'M':\n",
    "            greeting = f\"Hello, Mr {name}\"\n",
    "        else:\n",
    "            greeting = f\"Hello, Ms {name}\"\n",
    "        \n",
    "        # Output the greeting\n",
    "        print(greeting)\n",
    "    else:\n",
    "        print(\"Employee not found.\")\n",
    "\n",
    "\n",
    "greet_employee(\"E123D\")"
   ]
  },
  {
   "cell_type": "code",
   "execution_count": 7,
   "id": "3c0ff681",
   "metadata": {},
   "outputs": [
    {
     "name": "stdout",
     "output_type": "stream",
     "text": [
      "Hello, Mr Sumanth Mishra\n"
     ]
    }
   ],
   "source": [
    "greet_employee(\"E294M\")"
   ]
  },
  {
   "cell_type": "code",
   "execution_count": 8,
   "id": "0ab19172",
   "metadata": {},
   "outputs": [
    {
     "name": "stdout",
     "output_type": "stream",
     "text": [
      "Average Salary by Department:\n",
      "Department\n",
      "Engineering     650000.0\n",
      "IT             1200000.0\n",
      "Products       2075000.0\n",
      "Research       1350000.0\n",
      "Semantics      1200000.0\n",
      "Name: Salary, dtype: float64\n"
     ]
    }
   ],
   "source": [
    "def calculate_average_salary_by_department(df):\n",
    "    # Group by 'Department' and calculate the mean salary\n",
    "    avg_salary = df.groupby('Department')['Salary'].mean()\n",
    "    return avg_salary\n",
    "\n",
    "# Example usage\n",
    "average_salaries = calculate_average_salary_by_department(df)\n",
    "print(\"Average Salary by Department:\")\n",
    "print(average_salaries)\n"
   ]
  },
  {
   "cell_type": "code",
   "execution_count": 11,
   "id": "02d73841",
   "metadata": {},
   "outputs": [
    {
     "name": "stdout",
     "output_type": "stream",
     "text": [
      "Nitin Bhole | 01-11-2016 | Products\n"
     ]
    }
   ],
   "source": [
    "def display_employee_details(employee_id, df):\n",
    "    # Search for the employee by EID\n",
    "    employee = df[df['EID'] == employee_id]\n",
    "    \n",
    "    # Check if the employee is found\n",
    "    if not employee.empty:\n",
    "        # Extract relevant information\n",
    "        name = employee.iloc[0]['Employee Name']\n",
    "        date_of_joining = employee.iloc[0]['Date of Joining']\n",
    "        department = employee.iloc[0]['Department']\n",
    "        \n",
    "        # Display employee details\n",
    "        print(f\"{name} | {date_of_joining} | {department}\")\n",
    "    else:\n",
    "        print(\"Employee not found.\")\n",
    "\n",
    "# Example usage\n",
    "display_employee_details(\"E123D\", df)\n"
   ]
  },
  {
   "cell_type": "code",
   "execution_count": 10,
   "id": "a00f8613",
   "metadata": {},
   "outputs": [
    {
     "name": "stdout",
     "output_type": "stream",
     "text": [
      "Employees sorted from oldest to newest:\n",
      "      EID      Employee Name Date of Joining   Department\n",
      "7   E184A  Kushmakar Krishna      01-01-2015     Products\n",
      "0   E123D        Nitin Bhole      01-11-2016     Products\n",
      "12  E620Y     Kumar Abhishek      01-12-2014    Semantics\n",
      "3   E123B      Pankaj Bansal      01-12-2015     Research\n",
      "11  E092E       Mitali Gupta      02-05-2019    Semantics\n",
      "1   E876G     Mayur Kulkarni      03-06-2016    Semantics\n",
      "2   E798G      Anurag Pandey      04-07-2016           IT\n",
      "5   E294M     Sumanth Mishra      04-09-2017     Research\n",
      "10  E983Q     Chakshu Bansal      04-12-2017     Products\n",
      "13  E109U     Sanket Gibbidi      11-01-2019     Products\n",
      "4   E098Z    Rajendra Prabhu      11-11-2015    Semantics\n",
      "6   E972L          Sai Bodha      11-11-2017    Semantics\n",
      "8   E104S     Amarnath Patil      29-11-2015  Engineering\n",
      "9   E093V   Shashidhar Reddy      29-11-2018  Engineering\n"
     ]
    }
   ],
   "source": [
    "def sort_employees_by_joining_date(df):\n",
    "    # Sort by 'Date of Joining' column in ascending order\n",
    "    sorted_df = df.sort_values(by='Date of Joining', ascending=True)\n",
    "    return sorted_df[['EID', 'Employee Name', 'Date of Joining', 'Department']]\n",
    "\n",
    "# Example usage\n",
    "sorted_employees = sort_employees_by_joining_date(df)\n",
    "print(\"Employees sorted from oldest to newest:\")\n",
    "print(sorted_employees)\n"
   ]
  },
  {
   "cell_type": "code",
   "execution_count": null,
   "id": "062a0a30",
   "metadata": {},
   "outputs": [],
   "source": []
  }
 ],
 "metadata": {
  "kernelspec": {
   "display_name": "Python 3 (ipykernel)",
   "language": "python",
   "name": "python3"
  },
  "language_info": {
   "codemirror_mode": {
    "name": "ipython",
    "version": 3
   },
   "file_extension": ".py",
   "mimetype": "text/x-python",
   "name": "python",
   "nbconvert_exporter": "python",
   "pygments_lexer": "ipython3",
   "version": "3.11.3"
  }
 },
 "nbformat": 4,
 "nbformat_minor": 5
}
