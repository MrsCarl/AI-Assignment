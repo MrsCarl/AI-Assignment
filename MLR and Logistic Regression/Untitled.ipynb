{
 "cells": [
  {
   "cell_type": "markdown",
   "id": "29690c39",
   "metadata": {},
   "source": [
    "#### Neural Network Assignment:\n",
    "#### Understanding of neural network is crucial for deep learning journey. So, in this assignment you need to implement a neural network from scratch, without TensorFlow or Keras with following components:\n",
    "#### Input Layer\n",
    "#### 1 Hidden Layer\n",
    "#### Output Layer\n",
    "#### Weights\n",
    "#### Biases\n",
    "#### Activation Function\n",
    "#### Sigmoid\n",
    "#### Forward Propagation\n",
    "#### Backward Propagation"
   ]
  },
  {
   "cell_type": "code",
   "execution_count": 1,
   "id": "5b72f72a",
   "metadata": {},
   "outputs": [],
   "source": [
    "## Import Required Libraries\n",
    "import numpy as np"
   ]
  },
  {
   "cell_type": "code",
   "execution_count": 2,
   "id": "47c74961",
   "metadata": {},
   "outputs": [],
   "source": [
    "# Define the Sigmoid Activation Function and Its Derivative\n",
    "def sigmoid(x):\n",
    "    return 1 / (1 + np.exp(-x))\n",
    "\n",
    "def sigmoid_derivative(x):\n",
    "    return x * (1 - x)  # Assumes x is already the sigmoid output (activated)"
   ]
  },
  {
   "cell_type": "code",
   "execution_count": 3,
   "id": "864b8282",
   "metadata": {},
   "outputs": [],
   "source": [
    "## Initialize Neural Network Parameters (Weights and Biases)\n",
    "## An input layer with n features,\n",
    "## A hidden layer with a specified number of neurons,\n",
    "## An output layer with a single neuron (for binary classification).\n",
    "# Set random seed for reproducibility\n",
    "np.random.seed(42)\n",
    "\n",
    "# Define the architecture\n",
    "input_size = 3   # Number of input features\n",
    "hidden_size = 4  # Number of neurons in the hidden layer\n",
    "output_size = 1  # Output layer has 1 neuron for binary classification\n",
    "\n",
    "# Initialize weights and biases\n",
    "weights_input_hidden = np.random.rand(input_size, hidden_size) - 0.5\n",
    "bias_hidden = np.random.rand(1, hidden_size) - 0.5\n",
    "weights_hidden_output = np.random.rand(hidden_size, output_size) - 0.5\n",
    "bias_output = np.random.rand(1, output_size) - 0.5\n"
   ]
  },
  {
   "cell_type": "code",
   "execution_count": 4,
   "id": "7304b7cc",
   "metadata": {},
   "outputs": [],
   "source": [
    "## Define Forward Propogation\n",
    "def forward_propagation(X):\n",
    "    # Hidden layer\n",
    "    z_hidden = np.dot(X, weights_input_hidden) + bias_hidden\n",
    "    a_hidden = sigmoid(z_hidden)\n",
    "    \n",
    "    # Output layer\n",
    "    z_output = np.dot(a_hidden, weights_hidden_output) + bias_output\n",
    "    a_output = sigmoid(z_output)\n",
    "    \n",
    "    return a_hidden, a_output\n"
   ]
  },
  {
   "cell_type": "code",
   "execution_count": 7,
   "id": "9b261eb9",
   "metadata": {},
   "outputs": [],
   "source": [
    "## Define Backword Propogation\n",
    "def backward_propagation(X, y, a_hidden, a_output, learning_rate=0.1):\n",
    "    # Calculate the error at the output\n",
    "    output_error = a_output - y  # Difference between predicted and actual output\n",
    "    d_output = output_error * sigmoid_derivative(a_output)\n",
    "\n",
    "\n",
    "\n",
    "    # Update weights and biases\n",
    "    global weights_input_hidden, weights_hidden_output, bias_hidden, bias_output\n",
    "    \n",
    "    # Calculate error for hidden layer\n",
    "    hidden_error = d_output.dot(weights_hidden_output.T)\n",
    "    d_hidden = hidden_error * sigmoid_derivative(a_hidden)\n",
    "    weights_hidden_output -= a_hidden.T.dot(d_output) * learning_rate\n",
    "    bias_output -= np.sum(d_output, axis=0, keepdims=True) * learning_rate\n",
    "    weights_input_hidden -= X.T.dot(d_hidden) * learning_rate\n",
    "    bias_hidden -= np.sum(d_hidden, axis=0, keepdims=True) * learning_rate\n"
   ]
  },
  {
   "cell_type": "code",
   "execution_count": null,
   "id": "52b6d42b",
   "metadata": {},
   "outputs": [],
   "source": []
  }
 ],
 "metadata": {
  "kernelspec": {
   "display_name": "Python 3 (ipykernel)",
   "language": "python",
   "name": "python3"
  },
  "language_info": {
   "codemirror_mode": {
    "name": "ipython",
    "version": 3
   },
   "file_extension": ".py",
   "mimetype": "text/x-python",
   "name": "python",
   "nbconvert_exporter": "python",
   "pygments_lexer": "ipython3",
   "version": "3.11.3"
  }
 },
 "nbformat": 4,
 "nbformat_minor": 5
}
