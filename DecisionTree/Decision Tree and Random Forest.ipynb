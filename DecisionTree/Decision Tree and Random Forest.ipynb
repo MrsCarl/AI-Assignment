{
 "cells": [
  {
   "cell_type": "markdown",
   "id": "783080f3",
   "metadata": {},
   "source": [
    "About the data: \n",
    "Let’s consider a Company dataset with around 10 variables and 400 records. \n",
    "The attributes are as follows: \n",
    " Sales\n",
    " Competitor Price\n",
    " Income\n",
    " Advertising\n",
    " Population\n",
    " Price\n",
    " Shelf Location at stores\n",
    " Age\n",
    " Education\n",
    " Urban\n",
    " US\n",
    "The company dataset looks like this: \n",
    " \n",
    "Problem Statement:\n",
    "A cloth manufacturing company is interested to know about the segment or attributes causes high sale. \n",
    "Approach – \n",
    "Step 1: Understand the data by doing the EDA with different visualizations to understand the patterns. Pre process the data like Handling outliers & Null values, applying one hot encoding or label encoding etc.\n",
    "Step 2: Split the data to train and test.\n",
    "Step 3: Build a basic model using the Decision tree.\n",
    "Step 4: Do hyperparameter tuning on the model.\n",
    "Step 5: Apply Random Forest, Bagging and boosting methods.\n",
    "Ste6 6: Create a chart which shows the accuracy of all the models you have build\n",
    "Step 7: Write conclusions.\n"
   ]
  },
  {
   "cell_type": "code",
   "execution_count": 1,
   "id": "e3cd77cf",
   "metadata": {},
   "outputs": [],
   "source": [
    "import pandas as pd\n",
    "import numpy as np\n",
    "import seaborn as sns\n",
    "import matplotlib.pyplot as plt\n",
    "from sklearn.model_selection import train_test_split\n",
    "from sklearn.preprocessing import LabelEncoder, StandardScaler\n",
    "from sklearn.tree import DecisionTreeClassifier\n",
    "from sklearn.ensemble import RandomForestClassifier\n",
    "from sklearn.metrics import accuracy_score, classification_report, confusion_matrix\n"
   ]
  },
  {
   "cell_type": "code",
   "execution_count": 2,
   "id": "d4469363",
   "metadata": {},
   "outputs": [],
   "source": [
    "import warnings\n",
    "warnings.filterwarnings(\"ignore\")"
   ]
  },
  {
   "cell_type": "code",
   "execution_count": 3,
   "id": "88a5d6d8",
   "metadata": {},
   "outputs": [
    {
     "data": {
      "text/html": [
       "<div>\n",
       "<style scoped>\n",
       "    .dataframe tbody tr th:only-of-type {\n",
       "        vertical-align: middle;\n",
       "    }\n",
       "\n",
       "    .dataframe tbody tr th {\n",
       "        vertical-align: top;\n",
       "    }\n",
       "\n",
       "    .dataframe thead th {\n",
       "        text-align: right;\n",
       "    }\n",
       "</style>\n",
       "<table border=\"1\" class=\"dataframe\">\n",
       "  <thead>\n",
       "    <tr style=\"text-align: right;\">\n",
       "      <th></th>\n",
       "      <th>Sales</th>\n",
       "      <th>CompPrice</th>\n",
       "      <th>Income</th>\n",
       "      <th>Advertising</th>\n",
       "      <th>Population</th>\n",
       "      <th>Price</th>\n",
       "      <th>ShelveLoc</th>\n",
       "      <th>Age</th>\n",
       "      <th>Education</th>\n",
       "      <th>Urban</th>\n",
       "      <th>US</th>\n",
       "    </tr>\n",
       "  </thead>\n",
       "  <tbody>\n",
       "    <tr>\n",
       "      <th>0</th>\n",
       "      <td>9.50</td>\n",
       "      <td>138</td>\n",
       "      <td>73</td>\n",
       "      <td>11</td>\n",
       "      <td>276</td>\n",
       "      <td>120</td>\n",
       "      <td>Bad</td>\n",
       "      <td>42</td>\n",
       "      <td>17</td>\n",
       "      <td>Yes</td>\n",
       "      <td>Yes</td>\n",
       "    </tr>\n",
       "    <tr>\n",
       "      <th>1</th>\n",
       "      <td>11.22</td>\n",
       "      <td>111</td>\n",
       "      <td>48</td>\n",
       "      <td>16</td>\n",
       "      <td>260</td>\n",
       "      <td>83</td>\n",
       "      <td>Good</td>\n",
       "      <td>65</td>\n",
       "      <td>10</td>\n",
       "      <td>Yes</td>\n",
       "      <td>Yes</td>\n",
       "    </tr>\n",
       "    <tr>\n",
       "      <th>2</th>\n",
       "      <td>10.06</td>\n",
       "      <td>113</td>\n",
       "      <td>35</td>\n",
       "      <td>10</td>\n",
       "      <td>269</td>\n",
       "      <td>80</td>\n",
       "      <td>Medium</td>\n",
       "      <td>59</td>\n",
       "      <td>12</td>\n",
       "      <td>Yes</td>\n",
       "      <td>Yes</td>\n",
       "    </tr>\n",
       "    <tr>\n",
       "      <th>3</th>\n",
       "      <td>7.40</td>\n",
       "      <td>117</td>\n",
       "      <td>100</td>\n",
       "      <td>4</td>\n",
       "      <td>466</td>\n",
       "      <td>97</td>\n",
       "      <td>Medium</td>\n",
       "      <td>55</td>\n",
       "      <td>14</td>\n",
       "      <td>Yes</td>\n",
       "      <td>Yes</td>\n",
       "    </tr>\n",
       "    <tr>\n",
       "      <th>4</th>\n",
       "      <td>4.15</td>\n",
       "      <td>141</td>\n",
       "      <td>64</td>\n",
       "      <td>3</td>\n",
       "      <td>340</td>\n",
       "      <td>128</td>\n",
       "      <td>Bad</td>\n",
       "      <td>38</td>\n",
       "      <td>13</td>\n",
       "      <td>Yes</td>\n",
       "      <td>No</td>\n",
       "    </tr>\n",
       "    <tr>\n",
       "      <th>...</th>\n",
       "      <td>...</td>\n",
       "      <td>...</td>\n",
       "      <td>...</td>\n",
       "      <td>...</td>\n",
       "      <td>...</td>\n",
       "      <td>...</td>\n",
       "      <td>...</td>\n",
       "      <td>...</td>\n",
       "      <td>...</td>\n",
       "      <td>...</td>\n",
       "      <td>...</td>\n",
       "    </tr>\n",
       "    <tr>\n",
       "      <th>395</th>\n",
       "      <td>12.57</td>\n",
       "      <td>138</td>\n",
       "      <td>108</td>\n",
       "      <td>17</td>\n",
       "      <td>203</td>\n",
       "      <td>128</td>\n",
       "      <td>Good</td>\n",
       "      <td>33</td>\n",
       "      <td>14</td>\n",
       "      <td>Yes</td>\n",
       "      <td>Yes</td>\n",
       "    </tr>\n",
       "    <tr>\n",
       "      <th>396</th>\n",
       "      <td>6.14</td>\n",
       "      <td>139</td>\n",
       "      <td>23</td>\n",
       "      <td>3</td>\n",
       "      <td>37</td>\n",
       "      <td>120</td>\n",
       "      <td>Medium</td>\n",
       "      <td>55</td>\n",
       "      <td>11</td>\n",
       "      <td>No</td>\n",
       "      <td>Yes</td>\n",
       "    </tr>\n",
       "    <tr>\n",
       "      <th>397</th>\n",
       "      <td>7.41</td>\n",
       "      <td>162</td>\n",
       "      <td>26</td>\n",
       "      <td>12</td>\n",
       "      <td>368</td>\n",
       "      <td>159</td>\n",
       "      <td>Medium</td>\n",
       "      <td>40</td>\n",
       "      <td>18</td>\n",
       "      <td>Yes</td>\n",
       "      <td>Yes</td>\n",
       "    </tr>\n",
       "    <tr>\n",
       "      <th>398</th>\n",
       "      <td>5.94</td>\n",
       "      <td>100</td>\n",
       "      <td>79</td>\n",
       "      <td>7</td>\n",
       "      <td>284</td>\n",
       "      <td>95</td>\n",
       "      <td>Bad</td>\n",
       "      <td>50</td>\n",
       "      <td>12</td>\n",
       "      <td>Yes</td>\n",
       "      <td>Yes</td>\n",
       "    </tr>\n",
       "    <tr>\n",
       "      <th>399</th>\n",
       "      <td>9.71</td>\n",
       "      <td>134</td>\n",
       "      <td>37</td>\n",
       "      <td>0</td>\n",
       "      <td>27</td>\n",
       "      <td>120</td>\n",
       "      <td>Good</td>\n",
       "      <td>49</td>\n",
       "      <td>16</td>\n",
       "      <td>Yes</td>\n",
       "      <td>Yes</td>\n",
       "    </tr>\n",
       "  </tbody>\n",
       "</table>\n",
       "<p>400 rows × 11 columns</p>\n",
       "</div>"
      ],
      "text/plain": [
       "     Sales  CompPrice  Income  Advertising  Population  Price ShelveLoc  Age  \\\n",
       "0     9.50        138      73           11         276    120       Bad   42   \n",
       "1    11.22        111      48           16         260     83      Good   65   \n",
       "2    10.06        113      35           10         269     80    Medium   59   \n",
       "3     7.40        117     100            4         466     97    Medium   55   \n",
       "4     4.15        141      64            3         340    128       Bad   38   \n",
       "..     ...        ...     ...          ...         ...    ...       ...  ...   \n",
       "395  12.57        138     108           17         203    128      Good   33   \n",
       "396   6.14        139      23            3          37    120    Medium   55   \n",
       "397   7.41        162      26           12         368    159    Medium   40   \n",
       "398   5.94        100      79            7         284     95       Bad   50   \n",
       "399   9.71        134      37            0          27    120      Good   49   \n",
       "\n",
       "     Education Urban   US  \n",
       "0           17   Yes  Yes  \n",
       "1           10   Yes  Yes  \n",
       "2           12   Yes  Yes  \n",
       "3           14   Yes  Yes  \n",
       "4           13   Yes   No  \n",
       "..         ...   ...  ...  \n",
       "395         14   Yes  Yes  \n",
       "396         11    No  Yes  \n",
       "397         18   Yes  Yes  \n",
       "398         12   Yes  Yes  \n",
       "399         16   Yes  Yes  \n",
       "\n",
       "[400 rows x 11 columns]"
      ]
     },
     "execution_count": 3,
     "metadata": {},
     "output_type": "execute_result"
    }
   ],
   "source": [
    "# Load the dataset\n",
    "df = pd.read_csv(\"../DecisionTree/Company_Data.csv\")  # Replace with actual file path\n",
    "df"
   ]
  },
  {
   "cell_type": "code",
   "execution_count": 4,
   "id": "19e503bf",
   "metadata": {},
   "outputs": [
    {
     "name": "stdout",
     "output_type": "stream",
     "text": [
      "   Sales  CompPrice  Income  Advertising  Population  Price ShelveLoc  Age  \\\n",
      "0   9.50        138      73           11         276    120       Bad   42   \n",
      "1  11.22        111      48           16         260     83      Good   65   \n",
      "2  10.06        113      35           10         269     80    Medium   59   \n",
      "3   7.40        117     100            4         466     97    Medium   55   \n",
      "4   4.15        141      64            3         340    128       Bad   38   \n",
      "\n",
      "   Education Urban   US  \n",
      "0         17   Yes  Yes  \n",
      "1         10   Yes  Yes  \n",
      "2         12   Yes  Yes  \n",
      "3         14   Yes  Yes  \n",
      "4         13   Yes   No  \n"
     ]
    }
   ],
   "source": [
    "# View the first few rows of the dataset\n",
    "print(df.head())"
   ]
  },
  {
   "cell_type": "code",
   "execution_count": 5,
   "id": "265c7cc4",
   "metadata": {},
   "outputs": [
    {
     "name": "stdout",
     "output_type": "stream",
     "text": [
      "Sales          0\n",
      "CompPrice      0\n",
      "Income         0\n",
      "Advertising    0\n",
      "Population     0\n",
      "Price          0\n",
      "ShelveLoc      0\n",
      "Age            0\n",
      "Education      0\n",
      "Urban          0\n",
      "US             0\n",
      "dtype: int64\n"
     ]
    }
   ],
   "source": [
    "# Check for null values\n",
    "print(df.isnull().sum())"
   ]
  },
  {
   "cell_type": "code",
   "execution_count": 6,
   "id": "aa98d6b9",
   "metadata": {},
   "outputs": [
    {
     "name": "stdout",
     "output_type": "stream",
     "text": [
      "            Sales   CompPrice      Income  Advertising  Population  \\\n",
      "count  400.000000  400.000000  400.000000   400.000000  400.000000   \n",
      "mean     7.496325  124.975000   68.657500     6.635000  264.840000   \n",
      "std      2.824115   15.334512   27.986037     6.650364  147.376436   \n",
      "min      0.000000   77.000000   21.000000     0.000000   10.000000   \n",
      "25%      5.390000  115.000000   42.750000     0.000000  139.000000   \n",
      "50%      7.490000  125.000000   69.000000     5.000000  272.000000   \n",
      "75%      9.320000  135.000000   91.000000    12.000000  398.500000   \n",
      "max     16.270000  175.000000  120.000000    29.000000  509.000000   \n",
      "\n",
      "            Price         Age   Education  \n",
      "count  400.000000  400.000000  400.000000  \n",
      "mean   115.795000   53.322500   13.900000  \n",
      "std     23.676664   16.200297    2.620528  \n",
      "min     24.000000   25.000000   10.000000  \n",
      "25%    100.000000   39.750000   12.000000  \n",
      "50%    117.000000   54.500000   14.000000  \n",
      "75%    131.000000   66.000000   16.000000  \n",
      "max    191.000000   80.000000   18.000000  \n"
     ]
    }
   ],
   "source": [
    "# Summary statistics\n",
    "print(df.describe())"
   ]
  },
  {
   "cell_type": "code",
   "execution_count": 7,
   "id": "081e3bf7",
   "metadata": {},
   "outputs": [
    {
     "name": "stdout",
     "output_type": "stream",
     "text": [
      "Sales          float64\n",
      "CompPrice        int64\n",
      "Income           int64\n",
      "Advertising      int64\n",
      "Population       int64\n",
      "Price            int64\n",
      "ShelveLoc       object\n",
      "Age              int64\n",
      "Education        int64\n",
      "Urban           object\n",
      "US              object\n",
      "dtype: object\n"
     ]
    }
   ],
   "source": [
    "# Check data types\n",
    "print(df.dtypes)"
   ]
  },
  {
   "cell_type": "code",
   "execution_count": 8,
   "id": "b5f0e095",
   "metadata": {},
   "outputs": [
    {
     "data": {
      "image/png": "[encoded data removed]",
      "text/plain": [
       "<Figure size 640x480 with 1 Axes>"
      ]
     },
     "metadata": {},
     "output_type": "display_data"
    }
   ],
   "source": [
    "# Sales distribution\n",
    "sns.histplot(df['Sales'], bins=20)\n",
    "plt.title(\"Sales Distribution\")\n",
    "plt.show()"
   ]
  },
  {
   "cell_type": "code",
   "execution_count": 9,
   "id": "978d7490",
   "metadata": {},
   "outputs": [
    {
     "data": {
      "image/png": "[encoded data removed]",
      "text/plain": [
       "<Figure size 1000x800 with 2 Axes>"
      ]
     },
     "metadata": {},
     "output_type": "display_data"
    }
   ],
   "source": [
    "# Correlation heatmap\n",
    "plt.figure(figsize=(10, 8))\n",
    "sns.heatmap(df.corr(), annot=True, cmap=\"coolwarm\", fmt=\".2f\")\n",
    "plt.title(\"Correlation Heatmap\")\n",
    "plt.show()"
   ]
  },
  {
   "cell_type": "code",
   "execution_count": 10,
   "id": "457109b5",
   "metadata": {},
   "outputs": [
    {
     "data": {
      "text/plain": [
       "Index(['Sales', 'CompPrice', 'Income', 'Advertising', 'Population', 'Price',\n",
       "       'ShelveLoc', 'Age', 'Education', 'Urban', 'US'],\n",
       "      dtype='object')"
      ]
     },
     "execution_count": 10,
     "metadata": {},
     "output_type": "execute_result"
    }
   ],
   "source": [
    "df.columns"
   ]
  },
  {
   "cell_type": "code",
   "execution_count": 11,
   "id": "dc8576f2",
   "metadata": {},
   "outputs": [],
   "source": [
    "# One-hot encode categorical features\n",
    "df = pd.get_dummies(df, columns=['Urban', 'US', 'ShelveLoc'], drop_first=True)"
   ]
  },
  {
   "cell_type": "code",
   "execution_count": 12,
   "id": "bd4d78a4",
   "metadata": {},
   "outputs": [
    {
     "data": {
      "text/html": [
       "<div>\n",
       "<style scoped>\n",
       "    .dataframe tbody tr th:only-of-type {\n",
       "        vertical-align: middle;\n",
       "    }\n",
       "\n",
       "    .dataframe tbody tr th {\n",
       "        vertical-align: top;\n",
       "    }\n",
       "\n",
       "    .dataframe thead th {\n",
       "        text-align: right;\n",
       "    }\n",
       "</style>\n",
       "<table border=\"1\" class=\"dataframe\">\n",
       "  <thead>\n",
       "    <tr style=\"text-align: right;\">\n",
       "      <th></th>\n",
       "      <th>Sales</th>\n",
       "      <th>CompPrice</th>\n",
       "      <th>Income</th>\n",
       "      <th>Advertising</th>\n",
       "      <th>Population</th>\n",
       "      <th>Price</th>\n",
       "      <th>Age</th>\n",
       "      <th>Education</th>\n",
       "      <th>Urban_Yes</th>\n",
       "      <th>US_Yes</th>\n",
       "      <th>ShelveLoc_Good</th>\n",
       "      <th>ShelveLoc_Medium</th>\n",
       "    </tr>\n",
       "  </thead>\n",
       "  <tbody>\n",
       "    <tr>\n",
       "      <th>0</th>\n",
       "      <td>9.50</td>\n",
       "      <td>138</td>\n",
       "      <td>73</td>\n",
       "      <td>11</td>\n",
       "      <td>276</td>\n",
       "      <td>120</td>\n",
       "      <td>42</td>\n",
       "      <td>17</td>\n",
       "      <td>1</td>\n",
       "      <td>1</td>\n",
       "      <td>0</td>\n",
       "      <td>0</td>\n",
       "    </tr>\n",
       "    <tr>\n",
       "      <th>1</th>\n",
       "      <td>11.22</td>\n",
       "      <td>111</td>\n",
       "      <td>48</td>\n",
       "      <td>16</td>\n",
       "      <td>260</td>\n",
       "      <td>83</td>\n",
       "      <td>65</td>\n",
       "      <td>10</td>\n",
       "      <td>1</td>\n",
       "      <td>1</td>\n",
       "      <td>1</td>\n",
       "      <td>0</td>\n",
       "    </tr>\n",
       "    <tr>\n",
       "      <th>2</th>\n",
       "      <td>10.06</td>\n",
       "      <td>113</td>\n",
       "      <td>35</td>\n",
       "      <td>10</td>\n",
       "      <td>269</td>\n",
       "      <td>80</td>\n",
       "      <td>59</td>\n",
       "      <td>12</td>\n",
       "      <td>1</td>\n",
       "      <td>1</td>\n",
       "      <td>0</td>\n",
       "      <td>1</td>\n",
       "    </tr>\n",
       "    <tr>\n",
       "      <th>3</th>\n",
       "      <td>7.40</td>\n",
       "      <td>117</td>\n",
       "      <td>100</td>\n",
       "      <td>4</td>\n",
       "      <td>466</td>\n",
       "      <td>97</td>\n",
       "      <td>55</td>\n",
       "      <td>14</td>\n",
       "      <td>1</td>\n",
       "      <td>1</td>\n",
       "      <td>0</td>\n",
       "      <td>1</td>\n",
       "    </tr>\n",
       "    <tr>\n",
       "      <th>4</th>\n",
       "      <td>4.15</td>\n",
       "      <td>141</td>\n",
       "      <td>64</td>\n",
       "      <td>3</td>\n",
       "      <td>340</td>\n",
       "      <td>128</td>\n",
       "      <td>38</td>\n",
       "      <td>13</td>\n",
       "      <td>1</td>\n",
       "      <td>0</td>\n",
       "      <td>0</td>\n",
       "      <td>0</td>\n",
       "    </tr>\n",
       "    <tr>\n",
       "      <th>...</th>\n",
       "      <td>...</td>\n",
       "      <td>...</td>\n",
       "      <td>...</td>\n",
       "      <td>...</td>\n",
       "      <td>...</td>\n",
       "      <td>...</td>\n",
       "      <td>...</td>\n",
       "      <td>...</td>\n",
       "      <td>...</td>\n",
       "      <td>...</td>\n",
       "      <td>...</td>\n",
       "      <td>...</td>\n",
       "    </tr>\n",
       "    <tr>\n",
       "      <th>395</th>\n",
       "      <td>12.57</td>\n",
       "      <td>138</td>\n",
       "      <td>108</td>\n",
       "      <td>17</td>\n",
       "      <td>203</td>\n",
       "      <td>128</td>\n",
       "      <td>33</td>\n",
       "      <td>14</td>\n",
       "      <td>1</td>\n",
       "      <td>1</td>\n",
       "      <td>1</td>\n",
       "      <td>0</td>\n",
       "    </tr>\n",
       "    <tr>\n",
       "      <th>396</th>\n",
       "      <td>6.14</td>\n",
       "      <td>139</td>\n",
       "      <td>23</td>\n",
       "      <td>3</td>\n",
       "      <td>37</td>\n",
       "      <td>120</td>\n",
       "      <td>55</td>\n",
       "      <td>11</td>\n",
       "      <td>0</td>\n",
       "      <td>1</td>\n",
       "      <td>0</td>\n",
       "      <td>1</td>\n",
       "    </tr>\n",
       "    <tr>\n",
       "      <th>397</th>\n",
       "      <td>7.41</td>\n",
       "      <td>162</td>\n",
       "      <td>26</td>\n",
       "      <td>12</td>\n",
       "      <td>368</td>\n",
       "      <td>159</td>\n",
       "      <td>40</td>\n",
       "      <td>18</td>\n",
       "      <td>1</td>\n",
       "      <td>1</td>\n",
       "      <td>0</td>\n",
       "      <td>1</td>\n",
       "    </tr>\n",
       "    <tr>\n",
       "      <th>398</th>\n",
       "      <td>5.94</td>\n",
       "      <td>100</td>\n",
       "      <td>79</td>\n",
       "      <td>7</td>\n",
       "      <td>284</td>\n",
       "      <td>95</td>\n",
       "      <td>50</td>\n",
       "      <td>12</td>\n",
       "      <td>1</td>\n",
       "      <td>1</td>\n",
       "      <td>0</td>\n",
       "      <td>0</td>\n",
       "    </tr>\n",
       "    <tr>\n",
       "      <th>399</th>\n",
       "      <td>9.71</td>\n",
       "      <td>134</td>\n",
       "      <td>37</td>\n",
       "      <td>0</td>\n",
       "      <td>27</td>\n",
       "      <td>120</td>\n",
       "      <td>49</td>\n",
       "      <td>16</td>\n",
       "      <td>1</td>\n",
       "      <td>1</td>\n",
       "      <td>1</td>\n",
       "      <td>0</td>\n",
       "    </tr>\n",
       "  </tbody>\n",
       "</table>\n",
       "<p>400 rows × 12 columns</p>\n",
       "</div>"
      ],
      "text/plain": [
       "     Sales  CompPrice  Income  Advertising  Population  Price  Age  Education  \\\n",
       "0     9.50        138      73           11         276    120   42         17   \n",
       "1    11.22        111      48           16         260     83   65         10   \n",
       "2    10.06        113      35           10         269     80   59         12   \n",
       "3     7.40        117     100            4         466     97   55         14   \n",
       "4     4.15        141      64            3         340    128   38         13   \n",
       "..     ...        ...     ...          ...         ...    ...  ...        ...   \n",
       "395  12.57        138     108           17         203    128   33         14   \n",
       "396   6.14        139      23            3          37    120   55         11   \n",
       "397   7.41        162      26           12         368    159   40         18   \n",
       "398   5.94        100      79            7         284     95   50         12   \n",
       "399   9.71        134      37            0          27    120   49         16   \n",
       "\n",
       "     Urban_Yes  US_Yes  ShelveLoc_Good  ShelveLoc_Medium  \n",
       "0            1       1               0                 0  \n",
       "1            1       1               1                 0  \n",
       "2            1       1               0                 1  \n",
       "3            1       1               0                 1  \n",
       "4            1       0               0                 0  \n",
       "..         ...     ...             ...               ...  \n",
       "395          1       1               1                 0  \n",
       "396          0       1               0                 1  \n",
       "397          1       1               0                 1  \n",
       "398          1       1               0                 0  \n",
       "399          1       1               1                 0  \n",
       "\n",
       "[400 rows x 12 columns]"
      ]
     },
     "execution_count": 12,
     "metadata": {},
     "output_type": "execute_result"
    }
   ],
   "source": [
    "df"
   ]
  },
  {
   "cell_type": "code",
   "execution_count": 13,
   "id": "961f3c9e",
   "metadata": {},
   "outputs": [
    {
     "name": "stdout",
     "output_type": "stream",
     "text": [
      "Sales               float64\n",
      "CompPrice             int64\n",
      "Income                int64\n",
      "Advertising           int64\n",
      "Population            int64\n",
      "Price                 int64\n",
      "Age                   int64\n",
      "Education             int64\n",
      "Urban_Yes             uint8\n",
      "US_Yes                uint8\n",
      "ShelveLoc_Good        uint8\n",
      "ShelveLoc_Medium      uint8\n",
      "dtype: object\n"
     ]
    }
   ],
   "source": [
    "# Check data types\n",
    "print(df.dtypes)"
   ]
  },
  {
   "cell_type": "code",
   "execution_count": 14,
   "id": "3d4140e2",
   "metadata": {},
   "outputs": [
    {
     "data": {
      "image/png": "[encoded data removed]",
      "text/plain": [
       "<Figure size 1200x600 with 3 Axes>"
      ]
     },
     "metadata": {},
     "output_type": "display_data"
    }
   ],
   "source": [
    "# Select relevant columns for the box plots\n",
    "columns_to_plot = ['Income', 'Price', 'Advertising']\n",
    "\n",
    "# Set the plot style\n",
    "sns.set(style=\"whitegrid\")\n",
    "\n",
    "# Create a figure with subplots for each variable\n",
    "plt.figure(figsize=(12, 6))\n",
    "\n",
    "# Iterate over each column and create a boxplot\n",
    "for i, column in enumerate(columns_to_plot, 1):\n",
    "    plt.subplot(1, 3, i)  # 1 row, 3 columns, current plot index\n",
    "    sns.boxplot(y=df[column])\n",
    "    plt.title(f'Box Plot of {column}')\n",
    "    plt.xlabel(column)\n",
    "\n",
    "# Adjust layout to avoid overlap\n",
    "plt.tight_layout()\n",
    "plt.show()"
   ]
  },
  {
   "cell_type": "code",
   "execution_count": 15,
   "id": "527d9102",
   "metadata": {},
   "outputs": [],
   "source": [
    "# Split features and target variable\n",
    "X = df.drop('Sales', axis=1)\n",
    "y = df['Sales']\n",
    "\n",
    "# Split the data into training and testing sets\n",
    "X_train, X_test, y_train, y_test = train_test_split(X, y, test_size=0.2, random_state=42)\n"
   ]
  },
  {
   "cell_type": "code",
   "execution_count": 17,
   "id": "d7b31629",
   "metadata": {},
   "outputs": [],
   "source": [
    "from sklearn.tree import DecisionTreeRegressor\n",
    "# Initialize the Decision Tree Regressor\n",
    "decision_tree_reg = DecisionTreeRegressor(random_state=42)"
   ]
  },
  {
   "cell_type": "code",
   "execution_count": 19,
   "id": "c3c54f5a",
   "metadata": {},
   "outputs": [
    {
     "data": {
      "text/html": [
       "<style>#sk-container-id-1 {color: black;background-color: white;}#sk-container-id-1 pre{padding: 0;}#sk-container-id-1 div.sk-toggleable {background-color: white;}#sk-container-id-1 label.sk-toggleable__label {cursor: pointer;display: block;width: 100%;margin-bottom: 0;padding: 0.3em;box-sizing: border-box;text-align: center;}#sk-container-id-1 label.sk-toggleable__label-arrow:before {content: \"▸\";float: left;margin-right: 0.25em;color: #696969;}#sk-container-id-1 label.sk-toggleable__label-arrow:hover:before {color: black;}#sk-container-id-1 div.sk-estimator:hover label.sk-toggleable__label-arrow:before {color: black;}#sk-container-id-1 div.sk-toggleable__content {max-height: 0;max-width: 0;overflow: hidden;text-align: left;background-color: #f0f8ff;}#sk-container-id-1 div.sk-toggleable__content pre {margin: 0.2em;color: black;border-radius: 0.25em;background-color: #f0f8ff;}#sk-container-id-1 input.sk-toggleable__control:checked~div.sk-toggleable__content {max-height: 200px;max-width: 100%;overflow: auto;}#sk-container-id-1 input.sk-toggleable__control:checked~label.sk-toggleable__label-arrow:before {content: \"▾\";}#sk-container-id-1 div.sk-estimator input.sk-toggleable__control:checked~label.sk-toggleable__label {background-color: #d4ebff;}#sk-container-id-1 div.sk-label input.sk-toggleable__control:checked~label.sk-toggleable__label {background-color: #d4ebff;}#sk-container-id-1 input.sk-hidden--visually {border: 0;clip: rect(1px 1px 1px 1px);clip: rect(1px, 1px, 1px, 1px);height: 1px;margin: -1px;overflow: hidden;padding: 0;position: absolute;width: 1px;}#sk-container-id-1 div.sk-estimator {font-family: monospace;background-color: #f0f8ff;border: 1px dotted black;border-radius: 0.25em;box-sizing: border-box;margin-bottom: 0.5em;}#sk-container-id-1 div.sk-estimator:hover {background-color: #d4ebff;}#sk-container-id-1 div.sk-parallel-item::after {content: \"\";width: 100%;border-bottom: 1px solid gray;flex-grow: 1;}#sk-container-id-1 div.sk-label:hover label.sk-toggleable__label {background-color: #d4ebff;}#sk-container-id-1 div.sk-serial::before {content: \"\";position: absolute;border-left: 1px solid gray;box-sizing: border-box;top: 0;bottom: 0;left: 50%;z-index: 0;}#sk-container-id-1 div.sk-serial {display: flex;flex-direction: column;align-items: center;background-color: white;padding-right: 0.2em;padding-left: 0.2em;position: relative;}#sk-container-id-1 div.sk-item {position: relative;z-index: 1;}#sk-container-id-1 div.sk-parallel {display: flex;align-items: stretch;justify-content: center;background-color: white;position: relative;}#sk-container-id-1 div.sk-item::before, #sk-container-id-1 div.sk-parallel-item::before {content: \"\";position: absolute;border-left: 1px solid gray;box-sizing: border-box;top: 0;bottom: 0;left: 50%;z-index: -1;}#sk-container-id-1 div.sk-parallel-item {display: flex;flex-direction: column;z-index: 1;position: relative;background-color: white;}#sk-container-id-1 div.sk-parallel-item:first-child::after {align-self: flex-end;width: 50%;}#sk-container-id-1 div.sk-parallel-item:last-child::after {align-self: flex-start;width: 50%;}#sk-container-id-1 div.sk-parallel-item:only-child::after {width: 0;}#sk-container-id-1 div.sk-dashed-wrapped {border: 1px dashed gray;margin: 0 0.4em 0.5em 0.4em;box-sizing: border-box;padding-bottom: 0.4em;background-color: white;}#sk-container-id-1 div.sk-label label {font-family: monospace;font-weight: bold;display: inline-block;line-height: 1.2em;}#sk-container-id-1 div.sk-label-container {text-align: center;}#sk-container-id-1 div.sk-container {/* jupyter's `normalize.less` sets `[hidden] { display: none; }` but bootstrap.min.css set `[hidden] { display: none !important; }` so we also need the `!important` here to be able to override the default hidden behavior on the sphinx rendered scikit-learn.org. See: https://github.com/scikit-learn/scikit-learn/issues/21755 */display: inline-block !important;position: relative;}#sk-container-id-1 div.sk-text-repr-fallback {display: none;}</style><div id=\"sk-container-id-1\" class=\"sk-top-container\"><div class=\"sk-text-repr-fallback\"><pre>DecisionTreeRegressor(random_state=42)</pre><b>In a Jupyter environment, please rerun this cell to show the HTML representation or trust the notebook. <br />On GitHub, the HTML representation is unable to render, please try loading this page with nbviewer.org.</b></div><div class=\"sk-container\" hidden><div class=\"sk-item\"><div class=\"sk-estimator sk-toggleable\"><input class=\"sk-toggleable__control sk-hidden--visually\" id=\"sk-estimator-id-1\" type=\"checkbox\" checked><label for=\"sk-estimator-id-1\" class=\"sk-toggleable__label sk-toggleable__label-arrow\">DecisionTreeRegressor</label><div class=\"sk-toggleable__content\"><pre>DecisionTreeRegressor(random_state=42)</pre></div></div></div></div></div>"
      ],
      "text/plain": [
       "DecisionTreeRegressor(random_state=42)"
      ]
     },
     "execution_count": 19,
     "metadata": {},
     "output_type": "execute_result"
    }
   ],
   "source": [
    "decision_tree_reg.fit(X_train, y_train)"
   ]
  },
  {
   "cell_type": "code",
   "execution_count": 20,
   "id": "14dfe231",
   "metadata": {},
   "outputs": [],
   "source": [
    "# Predict on train data\n",
    "y_pred_train = decision_tree_reg.predict(X_train)"
   ]
  },
  {
   "cell_type": "code",
   "execution_count": 21,
   "id": "c78b3ea8",
   "metadata": {},
   "outputs": [
    {
     "data": {
      "text/plain": [
       "array([ 7.4 , 13.91,  4.1 ,  9.16,  7.22,  8.47,  5.36,  7.41,  3.47,\n",
       "        5.33,  8.65,  6.18,  7.57, 10.59,  4.94,  7.72,  5.58,  9.64,\n",
       "        3.89,  8.55,  5.04,  9.  ,  7.58,  8.85,  5.93, 11.85,  8.73,\n",
       "        6.52,  7.02,  9.32,  6.5 ,  8.67, 11.82,  5.32,  3.07,  8.32,\n",
       "        9.14,  7.6 ,  8.03, 11.19, 10.21,  8.98, 12.29,  6.88, 10.14,\n",
       "        7.54, 10.44,  5.74,  6.71, 10.  ,  6.15,  8.77,  3.47, 10.48,\n",
       "        7.37,  7.23, 11.19,  5.31,  9.7 ,  5.9 ,  8.89, 12.3 ,  6.64,\n",
       "        7.71,  4.1 ,  6.97,  5.21,  6.62,  0.37, 10.26,  6.63,  5.87,\n",
       "        6.67, 10.49,  9.01,  7.56,  5.07,  7.52, 15.63,  5.94,  7.9 ,\n",
       "        7.78,  7.53,  7.3 ,  9.45,  7.95,  6.81,  5.68, 10.51,  5.4 ,\n",
       "        4.53,  7.99,  8.19,  9.48,  0.53,  4.69,  7.45,  7.36, 13.39,\n",
       "        5.87,  4.95,  9.09,  6.88,  4.74,  9.01,  3.62,  2.66, 10.62,\n",
       "        6.41,  4.19,  9.34,  3.9 ,  9.08,  8.7 ,  5.17,  7.5 ,  8.61,\n",
       "        5.3 ,  7.63,  5.28,  5.32,  2.05,  5.36,  9.39,  7.74,  4.47,\n",
       "        6.59, 11.96, 11.7 , 10.07,  7.49,  6.67,  7.78,  6.23,  9.4 ,\n",
       "        8.8 , 10.71,  7.8 , 12.85,  6.88,  5.25,  8.22,  5.64,  5.17,\n",
       "        6.89,  6.42,  2.52,  4.53, 10.06,  8.74,  8.54,  9.43,  9.62,\n",
       "        8.33,  6.87, 13.36,  4.1 ,  8.77,  6.11,  8.64,  5.81,  6.52,\n",
       "        6.2 ,  9.16,  7.81,  4.42,  8.44,  8.55,  5.05,  8.21,  7.62,\n",
       "        8.78,  9.95,  9.49,  4.16, 14.37,  4.9 ,  8.47,  4.68,  8.68,\n",
       "        9.32,  3.98, 11.07,  2.99,  8.01,  7.44, 10.08, 12.98,  6.43,\n",
       "        5.58,  4.42, 10.31, 10.98, 11.93, 10.66,  7.96,  9.53,  4.97,\n",
       "        9.58, 10.1 ,  4.15,  4.2 ,  4.17,  4.11,  7.8 ,  7.38,  8.23,\n",
       "       12.49, 12.49,  2.34,  7.32,  4.38,  6.2 ,  5.83,  5.56,  3.58,\n",
       "        5.27,  6.8 ,  5.16,  7.67,  6.98,  3.63,  7.68, 10.27,  1.82,\n",
       "        6.44,  4.96,  6.54,  7.8 ,  8.57, 11.17,  7.49,  2.07,  5.98,\n",
       "       10.36,  5.73,  3.42,  8.97,  9.32,  8.19, 12.04,  4.21, 10.5 ,\n",
       "        3.72,  5.47,  6.53, 10.01,  5.01,  5.94,  2.93,  4.12,  4.34,\n",
       "        8.79, 11.18,  5.12,  5.55,  6.92, 11.22, 10.61,  8.01,  5.68,\n",
       "        2.67,  7.77,  4.81, 11.54,  7.91,  4.81,  6.95, 12.01, 10.96,\n",
       "        6.39,  6.56, 10.04,  6.71,  3.15,  5.57,  3.67,  4.78,  9.35,\n",
       "        6.97,  7.82,  4.9 ,  1.42,  0.  , 12.11,  7.41,  6.03, 11.48,\n",
       "        5.42,  3.91,  8.43,  5.53,  8.31, 12.13,  9.33,  4.67,  6.93,\n",
       "        6.67, 11.28,  5.99,  8.67,  9.24, 11.48,  8.41, 10.77,  3.13,\n",
       "        4.88,  7.8 , 11.7 ,  4.99,  4.83, 11.67,  9.71,  6.41,  8.07,\n",
       "        6.5 ,  0.16, 11.99, 12.57,  5.3 ])"
      ]
     },
     "execution_count": 21,
     "metadata": {},
     "output_type": "execute_result"
    }
   ],
   "source": [
    "y_pred_train"
   ]
  },
  {
   "cell_type": "code",
   "execution_count": 22,
   "id": "1dba17e7",
   "metadata": {},
   "outputs": [],
   "source": [
    "# Predict on test data\n",
    "y_pred_dt = decision_tree_reg.predict(X_test)"
   ]
  },
  {
   "cell_type": "code",
   "execution_count": 23,
   "id": "f0b4a02b",
   "metadata": {},
   "outputs": [
    {
     "data": {
      "text/plain": [
       "array([ 8.01,  4.1 , 10.62,  5.17,  7.44,  5.16, 10.96,  8.01, 11.93,\n",
       "       11.54,  6.54,  9.95,  9.33,  7.54,  9.16,  8.41,  3.58, 12.29,\n",
       "        6.81,  3.98,  9.64,  0.16,  7.96,  7.53,  5.17,  8.55,  5.33,\n",
       "        9.14,  4.78,  6.67, 12.29, 11.28,  4.95,  4.17, 11.28,  0.16,\n",
       "        5.31,  8.67,  8.43,  3.9 ,  2.34,  8.54,  9.64, 10.  ,  7.02,\n",
       "        4.95,  7.38,  8.85,  4.1 ,  6.93, 11.07,  9.32, 10.01, 10.77,\n",
       "        9.01,  5.04,  6.56,  8.21, 11.99,  9.09,  6.67, 11.28,  3.47,\n",
       "        5.53,  8.31,  6.71, 12.29, 10.21,  4.53, 10.  ,  5.53,  5.53,\n",
       "       12.49,  2.66,  3.47,  3.47,  8.47,  8.44,  6.67,  6.97])"
      ]
     },
     "execution_count": 23,
     "metadata": {},
     "output_type": "execute_result"
    }
   ],
   "source": [
    "y_pred_dt"
   ]
  },
  {
   "cell_type": "code",
   "execution_count": 26,
   "id": "798a67c9",
   "metadata": {},
   "outputs": [
    {
     "name": "stdout",
     "output_type": "stream",
     "text": [
      "Mean Squared Error (MSE): 6.41729625\n",
      "Root Mean Squared Error (RMSE): 2.533238293173384\n",
      "Mean Absolute Error (MAE): 2.053125\n",
      "R² Score: 0.3515395162808971\n"
     ]
    }
   ],
   "source": [
    "from sklearn.metrics import mean_squared_error, mean_absolute_error, r2_score\n",
    "# Evaluate the model\n",
    "mse = mean_squared_error(y_test, y_pred_dt)\n",
    "rmse = np.sqrt(mse)\n",
    "mae = mean_absolute_error(y_test, y_pred_dt)\n",
    "r2 = r2_score(y_test, y_pred_dt)\n",
    "\n",
    "print(\"Mean Squared Error (MSE):\", mse)\n",
    "print(\"Root Mean Squared Error (RMSE):\", rmse)\n",
    "print(\"Mean Absolute Error (MAE):\", mae)\n",
    "print(\"R² Score:\", r2)"
   ]
  },
  {
   "cell_type": "code",
   "execution_count": 28,
   "id": "a036e15a",
   "metadata": {},
   "outputs": [
    {
     "name": "stdout",
     "output_type": "stream",
     "text": [
      "Best Parameters for Decision Tree Regressor: {'criterion': 'absolute_error', 'max_depth': 10, 'min_samples_leaf': 4, 'min_samples_split': 2}\n",
      "Best Cross-Validation MSE: 4.717068817962734\n",
      "Mean Squared Error (MSE): 4.9379559375\n",
      "Root Mean Squared Error (RMSE): 2.2221511959135456\n",
      "Mean Absolute Error (MAE): 1.7965625000000003\n",
      "R² Score: 0.5010251714941684\n"
     ]
    }
   ],
   "source": [
    "from sklearn.model_selection import GridSearchCV\n",
    "# Set up the parameter grid for tuning\n",
    "param_grid = {\n",
    "    'max_depth': [3, 5, 10, None],\n",
    "    'min_samples_split': [2, 5, 10],\n",
    "    'min_samples_leaf': [1, 2, 4],\n",
    "    'criterion': ['squared_error', 'friedman_mse', 'absolute_error']\n",
    "}\n",
    "\n",
    "# Perform grid search with 3-fold cross-validation\n",
    "grid_search = GridSearchCV(decision_tree_reg, param_grid, cv=3, scoring='neg_mean_squared_error', n_jobs=-1)\n",
    "grid_search.fit(X_train, y_train)\n",
    "\n",
    "# Get the best parameters and the best score\n",
    "best_params = grid_search.best_params_\n",
    "best_mse = -grid_search.best_score_\n",
    "print(\"Best Parameters for Decision Tree Regressor:\", best_params)\n",
    "print(\"Best Cross-Validation MSE:\", best_mse)\n",
    "\n",
    "# Train the model with the best parameters\n",
    "best_tree_regressor = grid_search.best_estimator_\n",
    "best_tree_regressor.fit(X_train, y_train)\n",
    "\n",
    "# Make predictions\n",
    "y_pred = best_tree_regressor.predict(X_test)\n",
    "\n",
    "# Evaluate the model\n",
    "mse = mean_squared_error(y_test, y_pred)\n",
    "rmse = np.sqrt(mse)\n",
    "mae = mean_absolute_error(y_test, y_pred)\n",
    "r2 = r2_score(y_test, y_pred)\n",
    "\n",
    "print(\"Mean Squared Error (MSE):\", mse)\n",
    "print(\"Root Mean Squared Error (RMSE):\", rmse)\n",
    "print(\"Mean Absolute Error (MAE):\", mae)\n",
    "print(\"R² Score:\", r2)"
   ]
  },
  {
   "cell_type": "code",
   "execution_count": 29,
   "id": "27b89942",
   "metadata": {},
   "outputs": [
    {
     "name": "stdout",
     "output_type": "stream",
     "text": [
      "Random Forest Results:\n",
      "MSE: 3.080277622685014\n",
      "RMSE: 1.7550719707992075\n",
      "MAE: 1.4391329268002857\n",
      "R² Score: 0.688741451324543\n"
     ]
    }
   ],
   "source": [
    "from sklearn.ensemble import RandomForestRegressor\n",
    "from sklearn.metrics import mean_squared_error, mean_absolute_error, r2_score\n",
    "\n",
    "# Initialize the Random Forest Regressor\n",
    "random_forest = RandomForestRegressor(n_estimators=100, max_depth=10, random_state=42)\n",
    "\n",
    "# Train the model\n",
    "random_forest.fit(X_train, y_train)\n",
    "\n",
    "# Make predictions\n",
    "y_pred_rf = random_forest.predict(X_test)\n",
    "\n",
    "# Evaluate the model\n",
    "mse_rf = mean_squared_error(y_test, y_pred_rf)\n",
    "rmse_rf = np.sqrt(mse_rf)\n",
    "mae_rf = mean_absolute_error(y_test, y_pred_rf)\n",
    "r2_rf = r2_score(y_test, y_pred_rf)\n",
    "\n",
    "print(\"Random Forest Results:\")\n",
    "print(\"MSE:\", mse_rf)\n",
    "print(\"RMSE:\", rmse_rf)\n",
    "print(\"MAE:\", mae_rf)\n",
    "print(\"R² Score:\", r2_rf)\n"
   ]
  },
  {
   "cell_type": "code",
   "execution_count": 30,
   "id": "98a19f58",
   "metadata": {},
   "outputs": [
    {
     "name": "stdout",
     "output_type": "stream",
     "text": [
      "Bagging Regressor Results:\n",
      "MSE: 3.080761704999999\n",
      "RMSE: 1.7552098749152476\n",
      "MAE: 1.4359199999999999\n",
      "R² Score: 0.6886925353574587\n"
     ]
    }
   ],
   "source": [
    "from sklearn.ensemble import BaggingRegressor\n",
    "\n",
    "# Initialize the Bagging Regressor with Decision Tree as the base estimator\n",
    "bagging_regressor = BaggingRegressor(base_estimator=DecisionTreeRegressor(), n_estimators=50, random_state=42)\n",
    "\n",
    "# Train the model\n",
    "bagging_regressor.fit(X_train, y_train)\n",
    "\n",
    "# Make predictions\n",
    "y_pred_bag = bagging_regressor.predict(X_test)\n",
    "\n",
    "# Evaluate the model\n",
    "mse_bag = mean_squared_error(y_test, y_pred_bag)\n",
    "rmse_bag = np.sqrt(mse_bag)\n",
    "mae_bag = mean_absolute_error(y_test, y_pred_bag)\n",
    "r2_bag = r2_score(y_test, y_pred_bag)\n",
    "\n",
    "print(\"Bagging Regressor Results:\")\n",
    "print(\"MSE:\", mse_bag)\n",
    "print(\"RMSE:\", rmse_bag)\n",
    "print(\"MAE:\", mae_bag)\n",
    "print(\"R² Score:\", r2_bag)\n"
   ]
  },
  {
   "cell_type": "code",
   "execution_count": 31,
   "id": "8b010c82",
   "metadata": {},
   "outputs": [
    {
     "name": "stdout",
     "output_type": "stream",
     "text": [
      "AdaBoost Regressor Results:\n",
      "MSE: 3.056823640598638\n",
      "RMSE: 1.7483774308193978\n",
      "MAE: 1.4583360530903533\n",
      "R² Score: 0.6911114495257122\n"
     ]
    }
   ],
   "source": [
    "from sklearn.ensemble import AdaBoostRegressor\n",
    "\n",
    "# Initialize the AdaBoost Regressor\n",
    "adaboost_regressor = AdaBoostRegressor(base_estimator=DecisionTreeRegressor(max_depth=5), n_estimators=50, random_state=42)\n",
    "\n",
    "# Train the model\n",
    "adaboost_regressor.fit(X_train, y_train)\n",
    "\n",
    "# Make predictions\n",
    "y_pred_ada = adaboost_regressor.predict(X_test)\n",
    "\n",
    "# Evaluate the model\n",
    "mse_ada = mean_squared_error(y_test, y_pred_ada)\n",
    "rmse_ada = np.sqrt(mse_ada)\n",
    "mae_ada = mean_absolute_error(y_test, y_pred_ada)\n",
    "r2_ada = r2_score(y_test, y_pred_ada)\n",
    "\n",
    "print(\"AdaBoost Regressor Results:\")\n",
    "print(\"MSE:\", mse_ada)\n",
    "print(\"RMSE:\", rmse_ada)\n",
    "print(\"MAE:\", mae_ada)\n",
    "print(\"R² Score:\", r2_ada)\n"
   ]
  },
  {
   "cell_type": "code",
   "execution_count": 32,
   "id": "f973b87e",
   "metadata": {},
   "outputs": [
    {
     "name": "stdout",
     "output_type": "stream",
     "text": [
      "Gradient Boosting Regressor Results:\n",
      "MSE: 2.0381685369452613\n",
      "RMSE: 1.427644401433796\n",
      "MAE: 1.1883492458594431\n",
      "R² Score: 0.7940453886060534\n"
     ]
    }
   ],
   "source": [
    "from sklearn.ensemble import GradientBoostingRegressor\n",
    "\n",
    "# Initialize the Gradient Boosting Regressor\n",
    "gradient_boosting = GradientBoostingRegressor(n_estimators=100, max_depth=3, random_state=42)\n",
    "\n",
    "# Train the model\n",
    "gradient_boosting.fit(X_train, y_train)\n",
    "\n",
    "# Make predictions\n",
    "y_pred_gb = gradient_boosting.predict(X_test)\n",
    "\n",
    "# Evaluate the model\n",
    "mse_gb = mean_squared_error(y_test, y_pred_gb)\n",
    "rmse_gb = np.sqrt(mse_gb)\n",
    "mae_gb = mean_absolute_error(y_test, y_pred_gb)\n",
    "r2_gb = r2_score(y_test, y_pred_gb)\n",
    "\n",
    "print(\"Gradient Boosting Regressor Results:\")\n",
    "print(\"MSE:\", mse_gb)\n",
    "print(\"RMSE:\", rmse_gb)\n",
    "print(\"MAE:\", mae_gb)\n",
    "print(\"R² Score:\", r2_gb)\n"
   ]
  },
  {
   "cell_type": "code",
   "execution_count": 35,
   "id": "3b504ebc",
   "metadata": {},
   "outputs": [
    {
     "name": "stdout",
     "output_type": "stream",
     "text": [
      "Model Performance (R² Score):\n",
      "Decision Tree: R² Score = 0.5010\n",
      "Random Forest: R² Score = 0.6887\n",
      "Bagging: R² Score = 0.6887\n",
      "AdaBoost: R² Score = 0.6911\n",
      "Gradient Boosting: R² Score = 0.7940\n"
     ]
    },
    {
     "data": {
      "image/png": "[encoded data removed]",
      "text/plain": [
       "<Figure size 1000x600 with 1 Axes>"
      ]
     },
     "metadata": {},
     "output_type": "display_data"
    }
   ],
   "source": [
    "import matplotlib.pyplot as plt\n",
    "\n",
    "# Model names and their respective R² scores\n",
    "model_names = ['Decision Tree', 'Random Forest', 'Bagging', 'AdaBoost', 'Gradient Boosting']\n",
    "r2_scores = [r2, r2_rf, r2_bag, r2_ada, r2_gb]\n",
    "\n",
    "# Print R² scores for all models\n",
    "print(\"Model Performance (R² Score):\")\n",
    "for model, score in zip(model_names, r2_scores):\n",
    "    print(f\"{model}: R² Score = {score:.4f}\")\n",
    "\n",
    "# Plotting the R² scores for each model\n",
    "plt.figure(figsize=(10, 6))\n",
    "plt.barh(model_names, r2_scores, color=['skyblue', 'lightcoral', 'lightgreen', 'lightpink', 'lightblue'])\n",
    "plt.xlabel('R² Score')\n",
    "plt.title('Model Comparison based on R² Score')\n",
    "plt.xlim(0, 1)  # R² Score ranges from 0 to 1 for better visualization\n",
    "plt.show()\n"
   ]
  },
  {
   "cell_type": "markdown",
   "id": "05e3343d",
   "metadata": {},
   "source": [
    "From the R² scores for each model, we can draw some conclusions:\n",
    "\n",
    "Gradient Boosting:\n",
    "\n",
    "R² Score: 0.7940\n",
    "Conclusion: Gradient Boosting has the highest R² score among all models, indicating it best captures the variability in the data. This model’s superior performance suggests it successfully captures complex relationships within the data, making it a strong choice for accurate predictions.\n",
    "Consideration: Gradient Boosting tends to be computationally more expensive and may require careful tuning to avoid overfitting. However, its high R² score makes it the most accurate model for this dataset.\n",
    "AdaBoost:\n",
    "\n",
    "R² Score: 0.6911\n",
    "Conclusion: AdaBoost performs well, with a slightly lower R² score than Gradient Boosting. It’s effective at capturing patterns in the data, especially in cases with some misclassified instances that it can adjust for in each subsequent model.\n",
    "Use Case: AdaBoost can be a good alternative if you want a boosting model that’s less complex than Gradient Boosting but still achieves relatively high accuracy.\n",
    "Random Forest and Bagging:\n",
    "\n",
    "R² Score: 0.6887 (for both)\n",
    "Conclusion: Random Forest and Bagging both provide strong performance, indicating that they are effective at reducing overfitting by averaging multiple decision trees. Their identical scores suggest similar performance, as both rely on ensemble averaging methods.\n",
    "Strength: These models offer a good balance of accuracy and interpretability, making them ideal choices if interpretability and computational efficiency are priorities.\n",
    "Decision Tree:\n",
    "\n",
    "R² Score: 0.5010\n",
    "Conclusion: The Decision Tree model has the lowest R² score, indicating it may be overfitting or not capturing enough complexity in the data. Single decision trees tend to be more prone to overfitting than ensemble methods.\n",
    "Recommendation: Although it performs the least effectively, Decision Tree could still be useful as a baseline model or in cases where interpretability is the primary concern."
   ]
  },
  {
   "cell_type": "markdown",
   "id": "d7cbdc36",
   "metadata": {},
   "source": [
    "Final Recommendation\n",
    "Best Model: Gradient Boosting is the best choice here due to its high R² score, suggesting it can handle complex patterns well.\n",
    "Alternatives: If you need slightly simpler models with high accuracy, Random Forest and Bagging are good choices. They offer robust performance with less computational expense than boosting methods.\n",
    "Interpretability: For interpretability-focused applications, Random Forest is an ideal compromise between accuracy and explainability. If simplicity is key, a Decision Tree can be used, though it’s less accurate."
   ]
  },
  {
   "cell_type": "code",
   "execution_count": null,
   "id": "92268597",
   "metadata": {},
   "outputs": [],
   "source": []
  }
 ],
 "metadata": {
  "kernelspec": {
   "display_name": "Python 3 (ipykernel)",
   "language": "python",
   "name": "python3"
  },
  "language_info": {
   "codemirror_mode": {
    "name": "ipython",
    "version": 3
   },
   "file_extension": ".py",
   "mimetype": "text/x-python",
   "name": "python",
   "nbconvert_exporter": "python",
   "pygments_lexer": "ipython3",
   "version": "3.11.3"
  }
 },
 "nbformat": 4,
 "nbformat_minor": 5
}
