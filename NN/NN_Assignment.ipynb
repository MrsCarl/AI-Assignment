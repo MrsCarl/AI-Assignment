{
 "cells": [
  {
   "cell_type": "markdown",
   "id": "9557dd2e",
   "metadata": {},
   "source": [
    "#### Neural Network Assignment:\n",
    "#### Understanding of neural network is crucial for deep learning journey. So, in this assignment you need to implement a neural network from scratch, without TensorFlow or Keras with following components:\n",
    "#### Input Layer\n",
    "#### 1 Hidden Layer\n",
    "#### Output Layer\n",
    "#### Weights\n",
    "#### Biases\n",
    "#### Activation Function\n",
    "#### Sigmoid\n",
    "#### Forward Propagation\n",
    "#### Backward Propagation"
   ]
  },
  {
   "cell_type": "code",
   "execution_count": 1,
   "id": "eefac0f9",
   "metadata": {},
   "outputs": [],
   "source": [
    "## Import Required Libraries\n",
    "import numpy as np"
   ]
  },
  {
   "cell_type": "code",
   "execution_count": 2,
   "id": "85f04ea7",
   "metadata": {},
   "outputs": [],
   "source": [
    "# Define the Sigmoid Activation Function and Its Derivative\n",
    "def sigmoid(x):\n",
    "    return 1 / (1 + np.exp(-x))\n",
    "\n",
    "def sigmoid_derivative(x):\n",
    "    return x * (1 - x)  # Assumes x is already the sigmoid output (activated)"
   ]
  },
  {
   "cell_type": "code",
   "execution_count": 3,
   "id": "9758ff71",
   "metadata": {},
   "outputs": [],
   "source": [
    "## Initialize Neural Network Parameters (Weights and Biases)\n",
    "## An input layer with n features,\n",
    "## A hidden layer with a specified number of neurons,\n",
    "## An output layer with a single neuron (for binary classification).\n",
    "# Set random seed for reproducibility\n",
    "np.random.seed(42)\n",
    "\n",
    "# Define the architecture\n",
    "input_size = 3   # Number of input features\n",
    "hidden_size = 4  # Number of neurons in the hidden layer\n",
    "output_size = 1  # Output layer has 1 neuron for binary classification\n",
    "\n",
    "# Initialize weights and biases\n",
    "weights_input_hidden = np.random.rand(input_size, hidden_size) - 0.5\n",
    "bias_hidden = np.random.rand(1, hidden_size) - 0.5\n",
    "weights_hidden_output = np.random.rand(hidden_size, output_size) - 0.5\n",
    "bias_output = np.random.rand(1, output_size) - 0.5\n"
   ]
  },
  {
   "cell_type": "code",
   "execution_count": 4,
   "id": "b785490d",
   "metadata": {},
   "outputs": [],
   "source": [
    "## Define Forward Propogation\n",
    "def forward_propagation(X):\n",
    "    # Hidden layer\n",
    "    z_hidden = np.dot(X, weights_input_hidden) + bias_hidden\n",
    "    a_hidden = sigmoid(z_hidden)\n",
    "    \n",
    "    # Output layer\n",
    "    z_output = np.dot(a_hidden, weights_hidden_output) + bias_output\n",
    "    a_output = sigmoid(z_output)\n",
    "    \n",
    "    return a_hidden, a_output\n"
   ]
  },
  {
   "cell_type": "code",
   "execution_count": 7,
   "id": "1a0ba0c0",
   "metadata": {},
   "outputs": [],
   "source": [
    "## Define Backword Propogation\n",
    "def backward_propagation(X, y, a_hidden, a_output, learning_rate=0.1):\n",
    "    # Calculate the error at the output\n",
    "    output_error = a_output - y  # Difference between predicted and actual output\n",
    "    d_output = output_error * sigmoid_derivative(a_output)\n",
    "\n",
    "\n",
    "\n",
    "    # Update weights and biases\n",
    "    global weights_input_hidden, weights_hidden_output, bias_hidden, bias_output\n",
    "    \n",
    "    # Calculate error for hidden layer\n",
    "    hidden_error = d_output.dot(weights_hidden_output.T)\n",
    "    d_hidden = hidden_error * sigmoid_derivative(a_hidden)\n",
    "    weights_hidden_output -= a_hidden.T.dot(d_output) * learning_rate\n",
    "    bias_output -= np.sum(d_output, axis=0, keepdims=True) * learning_rate\n",
    "    weights_input_hidden -= X.T.dot(d_hidden) * learning_rate\n",
    "    bias_hidden -= np.sum(d_hidden, axis=0, keepdims=True) * learning_rate\n"
   ]
  },
  {
   "cell_type": "code",
   "execution_count": 8,
   "id": "6c8c0c73",
   "metadata": {},
   "outputs": [],
   "source": [
    "## Train Neural Network\n",
    "def train(X, y, iterations=1000, learning_rate=0.1):\n",
    "    for i in range(iterations):\n",
    "        # Forward propagation\n",
    "        a_hidden, a_output = forward_propagation(X)\n",
    "        \n",
    "        # Backward propagation\n",
    "        backward_propagation(X, y, a_hidden, a_output, learning_rate)\n",
    "        \n",
    "        # Optionally, print the loss every 100 iterations\n",
    "        if i % 100 == 0:\n",
    "            loss = np.mean((y - a_output) ** 2)\n",
    "            print(f\"Iteration {i}: Loss = {loss}\")\n"
   ]
  },
  {
   "cell_type": "code",
   "execution_count": 9,
   "id": "347f9685",
   "metadata": {},
   "outputs": [],
   "source": [
    "# Predict NN\n",
    "\n",
    "def predict(X):\n",
    "    _, a_output = forward_propagation(X)\n",
    "    return a_output\n"
   ]
  },
  {
   "cell_type": "code",
   "execution_count": 10,
   "id": "b9313e25",
   "metadata": {},
   "outputs": [
    {
     "name": "stdout",
     "output_type": "stream",
     "text": [
      "Iteration 0: Loss = 0.2348953470721644\n",
      "Iteration 100: Loss = 0.1837952497914463\n",
      "Iteration 200: Loss = 0.17833672586623558\n",
      "Iteration 300: Loss = 0.17095978721209715\n",
      "Iteration 400: Loss = 0.1614386130294594\n",
      "Iteration 500: Loss = 0.149728708890509\n",
      "Iteration 600: Loss = 0.13583726615499386\n",
      "Iteration 700: Loss = 0.12010006956407232\n",
      "Iteration 800: Loss = 0.10333951686940711\n",
      "Iteration 900: Loss = 0.0867374482672539\n",
      "Predictions after training:\n",
      "[[0.07995171]\n",
      " [0.23070242]\n",
      " [0.21758239]\n",
      " [0.5770408 ]]\n"
     ]
    }
   ],
   "source": [
    "## Testing NN\n",
    "# Dummy dataset (AND gate)\n",
    "X = np.array([[0, 0, 1],\n",
    "              [0, 1, 1],\n",
    "              [1, 0, 1],\n",
    "              [1, 1, 1]])\n",
    "y = np.array([[0], [0], [0], [1]])  # AND gate output\n",
    "\n",
    "# Train the model\n",
    "train(X, y, iterations=1000, learning_rate=0.1)\n",
    "\n",
    "# Test predictions\n",
    "predictions = predict(X)\n",
    "print(\"Predictions after training:\")\n",
    "print(predictions)\n"
   ]
  },
  {
   "cell_type": "markdown",
   "id": "1043b706",
   "metadata": {},
   "source": [
    "## Notes\n",
    "##### Learning Rate: You may need to adjust the learning rate or iterations based on your dataset.\n",
    "##### Activation Function: We used sigmoid here for simplicity, but ReLU is common for hidden layers in larger networks.\n",
    "##### Limitations: This example is basic and lacks advanced techniques like momentum, regularization, and complex architectures, which are typical in real-world deep learning models."
   ]
  },
  {
   "cell_type": "code",
   "execution_count": null,
   "id": "75b15d35",
   "metadata": {},
   "outputs": [],
   "source": []
  }
 ],
 "metadata": {
  "kernelspec": {
   "display_name": "Python 3 (ipykernel)",
   "language": "python",
   "name": "python3"
  },
  "language_info": {
   "codemirror_mode": {
    "name": "ipython",
    "version": 3
   },
   "file_extension": ".py",
   "mimetype": "text/x-python",
   "name": "python",
   "nbconvert_exporter": "python",
   "pygments_lexer": "ipython3",
   "version": "3.11.3"
  }
 },
 "nbformat": 4,
 "nbformat_minor": 5
}
